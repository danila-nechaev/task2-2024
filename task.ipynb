{
 "cells": [
  {
   "cell_type": "markdown",
   "metadata": {},
   "source": [
    "создаем файл с числами"
   ]
  },
  {
   "cell_type": "code",
   "execution_count": 19,
   "metadata": {},
   "outputs": [],
   "source": [
    "import random\n",
    "\n",
    "# Открываем файл для записи\n",
    "with open(\"random_numbers.txt\", \"w\") as file:\n",
    "    # Генерируем и записываем 50000 случайных 32-битных целых чисел\n",
    "    for _ in range(50000):\n",
    "        random_number = random.randint(2, 2**31 - 1)\n",
    "        file.write(str(random_number) + \"\\n\")"
   ]
  },
  {
   "cell_type": "markdown",
   "metadata": {},
   "source": [
    "простой последовательный алгоритм "
   ]
  },
  {
   "cell_type": "code",
   "execution_count": 20,
   "metadata": {},
   "outputs": [
    {
     "name": "stdout",
     "output_type": "stream",
     "text": [
      "Суммарное количество простых множителей для чисел из файла: 203380\n",
      "Время выполнения 85.9 секунд\n"
     ]
    }
   ],
   "source": [
    "import math\n",
    "import time\n",
    "# Функция для подсчета простых множителей числа\n",
    "\n",
    "def count_prime_factors(num):\n",
    "    count = 0\n",
    "    # Проверяем делители \n",
    "    for i in range(2, int(math.sqrt(num)) + 1):\n",
    "        while num % i == 0:\n",
    "            count += 1\n",
    "            num //= i\n",
    "    return count + (num > 1)\n",
    "\n",
    "start_time = time.time()\n",
    "\n",
    "# Считываем числа из файла и подсчитываем простые множители для каждого числа\n",
    "total_prime_factors = 0\n",
    "\n",
    "with open(\"random_numbers.txt\", \"r\") as file:\n",
    "    for line in file:\n",
    "        number = int(line.strip())\n",
    "        total_prime_factors += count_prime_factors(number)\n",
    "\n",
    "end_time = time.time()\n",
    "res = end_time - start_time\n",
    "print(\"Суммарное количество простых множителей для чисел из файла:\", total_prime_factors)\n",
    "print(f\"Время выполнения {res:.1f} секунд\")"
   ]
  },
  {
   "cell_type": "markdown",
   "metadata": {},
   "source": [
    "мультипроцессинг "
   ]
  },
  {
   "cell_type": "code",
   "execution_count": 21,
   "metadata": {},
   "outputs": [
    {
     "name": "stdout",
     "output_type": "stream",
     "text": [
      "Суммарное количество простых множителей для чисел из файла: 203380\n",
      "Время выполнения 76.8 секунд\n"
     ]
    }
   ],
   "source": [
    "import math\n",
    "import multiprocessing\n",
    "import time\n",
    "\n",
    "start_time = time.time()\n",
    "\n",
    "# Функция для подсчета простых множителей числа\n",
    "def count_prime_factors(num):\n",
    "    count = 0\n",
    "    # Проверяем делители \n",
    "    for i in range(2, int(math.sqrt(num)) + 1):\n",
    "        while num % i == 0:\n",
    "            count += 1\n",
    "            num //= i\n",
    "    return count + (num > 1)\n",
    "\n",
    "# Функция для обработки данных в отдельном процессе\n",
    "def process_data(chunk):\n",
    "    total_prime_factors = sum(count_prime_factors(num) for num in chunk)\n",
    "    return total_prime_factors\n",
    "\n",
    "# Открываем файл для чтения и считываем числа\n",
    "numbers = []\n",
    "with open(\"random_numbers.txt\", \"r\") as file:\n",
    "    for line in file:\n",
    "        numbers.append(int(line.strip()))\n",
    "\n",
    "# Подготовка данных для распределения по процессам\n",
    "chunk_size = len(numbers) // multiprocessing.cpu_count()\n",
    "chunks = [numbers[i:i + chunk_size] for i in range(0, len(numbers), chunk_size)]\n",
    "\n",
    "# Создание процессов и запуск обработки данных\n",
    "results = []\n",
    "for chunk in chunks:\n",
    "    result = process_data(chunk)\n",
    "    results.append(result)\n",
    "\n",
    "\n",
    "\n",
    "# Суммируем результаты из всех процессов\n",
    "total_prime_factors = sum(results)\n",
    "\n",
    "end_time = time.time()\n",
    "res = end_time - start_time\n",
    "\n",
    "print(\"Суммарное количество простых множителей для чисел из файла:\", total_prime_factors)\n",
    "print(f\"Время выполнения {res:.1f} секунд\")\n"
   ]
  },
  {
   "cell_type": "markdown",
   "metadata": {},
   "source": [
    "с помощью Dask"
   ]
  },
  {
   "cell_type": "code",
   "execution_count": 22,
   "metadata": {},
   "outputs": [
    {
     "name": "stdout",
     "output_type": "stream",
     "text": [
      "Суммарное количество простых множителей для чисел из файла: 203380\n",
      "Время выполнения 79.0 секунд\n"
     ]
    }
   ],
   "source": [
    "import math\n",
    "import dask.bag as db\n",
    "import time\n",
    "\n",
    "start_time = time.time()\n",
    "# Функция для подсчета простых множителей числа\n",
    "def count_prime_factors(num):\n",
    "    count = 0\n",
    "    # Проверяем делители \n",
    "    for i in range(2, int(math.sqrt(num)) + 1):\n",
    "        while num % i == 0:\n",
    "            count += 1\n",
    "            num //= i\n",
    "    return count + (num > 1)\n",
    "\n",
    "# Чтение чисел из файла \n",
    "numbers_bag = db.read_text(\"random_numbers.txt\").map(int)\n",
    "\n",
    "# Подсчет простых множителей для каждого числа\n",
    "prime_factors_count = numbers_bag.map(count_prime_factors).sum().compute()\n",
    "\n",
    "\n",
    "end_time = time.time()\n",
    "res = end_time - start_time\n",
    "print(\"Суммарное количество простых множителей для чисел из файла:\", prime_factors_count)\n",
    "print(f\"Время выполнения {res:.1f} секунд\")"
   ]
  }
 ],
 "metadata": {
  "kernelspec": {
   "display_name": "Python 3",
   "language": "python",
   "name": "python3"
  },
  "language_info": {
   "codemirror_mode": {
    "name": "ipython",
    "version": 3
   },
   "file_extension": ".py",
   "mimetype": "text/x-python",
   "name": "python",
   "nbconvert_exporter": "python",
   "pygments_lexer": "ipython3",
   "version": "3.10.8"
  }
 },
 "nbformat": 4,
 "nbformat_minor": 2
}
